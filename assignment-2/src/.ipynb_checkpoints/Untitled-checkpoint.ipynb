{
 "cells": [
  {
   "cell_type": "markdown",
   "metadata": {
    "collapsed": true
   },
   "source": [
    "# Computational biology and bioinformatics - <span style=\"color:#1CA766\">INFO-F-439</span>\n",
    "# Assignment 1: <span style=\"color:#1CA766\">GOR III secondary structure prediction</span>\n",
    "\n",
    "> ## <span style=\"color:#2E66A7\"> Alberto Parravicini</span>"
   ]
  },
  {
   "cell_type": "markdown",
   "metadata": {},
   "source": [
    "*****\n",
    "\n",
    "# <span style=\"color:#2E66A7\">Part 1:</span> Introduction\n",
    "\n",
    "Proteins are for the most part defined by the aminoacid sequences that compose them. However, due to the nature of the aminoacids, proteins have more complex structures that characterize them.\n",
    "\n",
    "Hydrogen bonds between the aminoacids in the sequence causes the proteins to assume three-dimensional structures of various kind. Being able to recognize these structures is useful to compare proteins, and to get a better insight on their properties.\n",
    "\n",
    "Classifying correctly which portion of a protein assumes a given secondary structure isn't an easy task, but it can be seen that there are links between specific patterns of aminoacids and given secondary structures.\n",
    "As an example, in $\\alpha$-helices (one type of secondary structure) every third aminoacid along the sequence will tend to be hydrophobic. Also, regions richer of *alanine (A)* and *leucine (L)* will tend to form helices. (see *Gollery, Martin. \"Bioinformatics: Sequence and Genome Analysis\", David W. Mount. Pag. 387-388*)"
   ]
  },
  {
   "cell_type": "markdown",
   "metadata": {},
   "source": [
    "***\n",
    "\n",
    "### <span style=\"color:#1CA766\">GOR I & II</span>:"
   ]
  },
  {
   "cell_type": "markdown",
   "metadata": {},
   "source": [
    "One idea that can be exploited to predict secondary structures from aminoacid sequeces, is that the secondary structure corresponding to a certain aminoacid is influenced not only by the aminoacid itself, but also by the aminoacids that are close to it.\n",
    "\n",
    "Given a dataset of proteins where for each aminoacid its secondary structure is known, it is possible to build a model that is able to predict secondary sequences, by using the idea above.\n",
    "\n",
    "This is the core idea behind the **GOR I** and **GOR II** algorithms.\n",
    "\n",
    "For a given position $j$, it will be predicted the secondary structure $S_j$ that has the highest value of *information*, as function of the aminoacid sequence.\n",
    "Assuming that our secondary structures are in the set $S = \\{\\alpha$-helices (**H**), $\\beta$-sheets (**B**), and coils (**C**)$\\}$, the one that will be chosen is $$S_j = \\arg\\max_{S}{I(\\Delta S_j;\\ a_1, \\ldots, a_n)}$$ where $a_1, \\ldots, a_n$ is the aminoacid sequence, and $S_j$ is picked among the secondary structures in S.\n",
    "\n",
    "The previous computation is approximated by **GOR** by considering a window of size $17$ around position $j$, which gives the formula $$S_j = \\arg\\max_{S}{I(\\Delta S_j;\\ a_1, \\ldots, a_n)} \\approx \\arg\\max_{S}{\\sum_{m = -8}^{m = 8}{I(\\Delta S_j;\\ a_{j+m})}}$$ \n",
    "\n",
    "In the previous formulation, $I(\\Delta S_j;\\ a_{j+m})$ is a measure of *self-information*, and is given by\n",
    "$$I(\\Delta S_j;\\ a_{j+m}) = log(\\frac{c_{S_j,\\ a_{j+m}}}{c_{\\neg S_j,\\ a_{j+m}}}) + log(\\frac{c_{\\neg S}}{c_{S}})$$\n",
    "\n",
    "where $c$ refers to the count of the occurrences (in a given dataset) of what is specified in the subscript; for instance, $c_{\\neg S}$ is the number of aminoacids with a secondary structure different from $S$."
   ]
  },
  {
   "cell_type": "markdown",
   "metadata": {},
   "source": [
    "In Python, we can compute $c_{S_j,\\ a_{j+m}}$ and $I(\\Delta S_j;\\ a_{j+m})$ in the following way:"
   ]
  },
  {
   "cell_type": "code",
   "execution_count": 4,
   "metadata": {
    "collapsed": true
   },
   "outputs": [],
   "source": [
    "def count_residues_gor_1(s_list, a_list, s_j, a_jm, lag):\n",
    "    \"\"\"\n",
    "    Count the number of times that structure \"s_j\" appears,\n",
    "    and residue \"a_jm\" is at distance \"lag\" from them.\n",
    "    :param s_list: a list of secondary structures; pandas Series.\n",
    "    :param a_list: a list of aminoacids; pandas Series.\n",
    "    :param s_j: a secondary structure name.\n",
    "    :param a_jm: an aminoacid name.\n",
    "    :param lag: distance from a_j at which a_jm is searched.\n",
    "    :return: int\n",
    "    \"\"\"\n",
    "    n = len(s_list)\n",
    "    count = 0\n",
    "    for i in range(max(0, -lag), min(n, n - lag)):\n",
    "        if s_list.iloc[i] == s_j and a_list.iloc[i + lag] == a_jm:\n",
    "            count += 1\n",
    "    return count"
   ]
  },
  {
   "cell_type": "code",
   "execution_count": 5,
   "metadata": {
    "collapsed": true
   },
   "outputs": [],
   "source": [
    "def info_value_gor_1(s_list, a_list, s_j, a_jm, lag, a_occ):\n",
    "    \"\"\"\n",
    "    Compute the information value associated to a secondary structure s_j, in position j,\n",
    "    and to an aminoacid a_jm, at distance m from s_j.\n",
    "    :param s_list: a list of secondary structures; pandas Series.\n",
    "    :param a_list: a list of aminoacids; pandas Series.\n",
    "    :param s_j: a secondary structure name.\n",
    "    :param a_jm: an aminoacid name.\n",
    "    :param lag: distance from a_j at which a_jm is searched.\n",
    "    :param a_occ: number of occurrencies of each aminoacid; pandas Series.\n",
    "    :return: double\n",
    "    \"\"\"\n",
    "    num_1 = count_residues_gor_1(s_list, a_list, s_j, a_jm, lag)\n",
    "    den_1 = a_occ[a_jm] - num_1\n",
    "    den_2 = s_occ[s_j]\n",
    "    num_2 = len(s_list) - den_2\n",
    "    return np.log(num_1 * num_2) - np.log(den_1 * den_2)"
   ]
  },
  {
   "cell_type": "markdown",
   "metadata": {},
   "source": [
    "***\n",
    "\n",
    "### <span style=\"color:#1CA766\">GOR III</span>:"
   ]
  },
  {
   "cell_type": "markdown",
   "metadata": {},
   "source": [
    "It is possible to improve the accuracy of **GOR I & II** by considering not only the occurrencies of aminoacids close to the position where we want to predict the secondary structure, but also their occurrencies relatively to the aminoacid found at that given position.\n",
    "\n",
    "This means that the information value of a secondary structure $S_j$ will be approximated as \n",
    "\n",
    "$$S_j = \\arg\\max_{S}{I(\\Delta S_j;\\ a_1, \\ldots, a_n)} \\approx \\arg\\max_{S}{\\sum_{m = -8}^{m = 8}{I(\\Delta S_j;\\ a_{j+m}\\ |\\ a_j)}} = \\ldots$$ \n",
    "$$\\ldots = I(\\Delta S_j;\\ a_j) + \\sum_{m = -8,\\ m \\neq 0}^{m = 8}{I(\\Delta S_j;\\ a_{j+m}\\ |\\ a_j)}$$\n",
    "\n",
    "where it holds $$I(\\Delta S_j;\\ a_{j+m}\\ |\\ a_j) = log(\\frac{c_{S_j,\\ a_{j+m},\\ a_j}}{c_{\\neg S_j,\\ a_{j+m},\\ a_j}}) + log(\\frac{c_{\\neg S_j,\\ a_j}}{c_{S_j,\\ a_j}})$$"
   ]
  },
  {
   "cell_type": "markdown",
   "metadata": {},
   "source": [
    "In Python, we can compute $c_{S_j,\\ a_{j+m},\\ a_j}$ and $I(\\Delta S_j;\\ a_{j+m}\\ |\\ a_j)$ as:"
   ]
  },
  {
   "cell_type": "code",
   "execution_count": 6,
   "metadata": {
    "collapsed": true
   },
   "outputs": [],
   "source": [
    "def count_residues_gor_3(s_list, a_list, s_j, a_j, a_jm, lag):\n",
    "    \"\"\"\n",
    "    Count the number of times that structure \"s_j\" appears together with residue \"a_j\",\n",
    "    and residue \"a_jm\" is at distance \"lag\" from them.\n",
    "    :param s_list: a list of secondary structures; pandas Series.\n",
    "    :param a_list: a list of aminoacids; pandas Series.\n",
    "    :param s_j: a secondary structure name\n",
    "    :param a_j: an aminoacid name\n",
    "    :param a_jm: an aminoacid name\n",
    "    :param lag: distance from a_j at which a_jm is searched\n",
    "    :return: int\n",
    "    \"\"\"\n",
    "    n = len(s_list)\n",
    "    count = 0\n",
    "    for i in range(max(0, -lag), min(n, n - lag)):\n",
    "        if s_list.iat[i] == s_j and a_list.iat[i] == a_j and a_list.iat[i + lag] == a_jm:\n",
    "            count += 1\n",
    "    return count"
   ]
  },
  {
   "cell_type": "code",
   "execution_count": 7,
   "metadata": {
    "collapsed": true
   },
   "outputs": [],
   "source": [
    "def info_value_gor_3(s_list, a_list, s_j, a_j, a_jm, lag, a_occ):\n",
    "    \"\"\"\n",
    "    Compute the information value associated to an aminoacid a_j in position j,\n",
    "    with secondary structure s_j, in position j,\n",
    "    and to an aminoacid a_jm, at distance m from s_j.\n",
    "    :param s_list: a list of secondary structures; pandas Series.\n",
    "    :param a_list: a list of aminoacids; pandas Series.\n",
    "    :param s_j: a secondary structure name\n",
    "    :param a_j: an aminoacid name\n",
    "    :param a_jm: an aminoacid name\n",
    "    :param lag: distance from a_j at which a_jm is searched\n",
    "    :param a_occ: number of occurrencies of each aminoacid\n",
    "    :return: double\n",
    "    \"\"\"\n",
    "    # Num of times s_j appears with a_j, and a_jm is lag position distant.\n",
    "    num_1 = count_residues_gor_3(s_list, a_list, s_j, a_j, a_jm, lag)\n",
    "    # Num of times a_j appears with a secondary structure different from s_j,\n",
    "    # and a_jm is lag position distant.\n",
    "    den_1 = count_aminoacid_lag(a_list, a_j, a_jm, lag) - num_1\n",
    "    \n",
    "    # Number of times aminoacid a_j appears together with structure s_j.                        \n",
    "    den_2 = count_residues_gor_3(s_list, a_list, s_j, a_j, a_j, 0)                          \n",
    "    # Number of times aminoacid a_j appears with a different structure from s_j.\n",
    "    num_2 = a_occ[a_j] - den_2\n",
    "                 \n",
    "    info = np.log(num_1) - np.log(den_1) + np.log(num_2) - np.log(den_2)   \n",
    "    return info     "
   ]
  },
  {
   "cell_type": "markdown",
   "metadata": {
    "collapsed": true
   },
   "source": [
    "*****\n",
    "\n",
    "# <span style=\"color:#2E66A7\">Part 2:</span> Data pre-processing"
   ]
  },
  {
   "cell_type": "markdown",
   "metadata": {},
   "source": [
    "To compute the information values for each combination of aminoacids and secondary structures, it is necessary to have a large dataset of proteins with known secondary structures. We are provided with a set of 498 proteins, where the secondary structures have been determined by **DSSP** and **STRIDE**.\n",
    "\n",
    "Before being able to apply **GOR III**, it is required to preprocess the dataset, clean the inconsistencies that might be present, and store the aminoacid sequences in an appropriate way."
   ]
  },
  {
   "cell_type": "code",
   "execution_count": 8,
   "metadata": {
    "collapsed": true
   },
   "outputs": [],
   "source": [
    "#%% IMPORT DATA\n",
    "\n",
    "import pandas as pd\n",
    "import numpy as np\n",
    "import timeit\n",
    "import pickle\n",
    "\n",
    "aminoacid_list = \"arndceqghilkmfpstwyv\"\n",
    "\n",
    "# Dictionary that maps aminoacid codes to single letters.\n",
    "aminoacid_codes = {\"ala\":  \"a\",\n",
    "                   \"arg\":  \"r\",\n",
    "                   \"asn\":  \"n\",\n",
    "                   \"asp\":  \"d\",\n",
    "                   \"cys\":  \"c\",\n",
    "                   \"gln\":  \"q\",\n",
    "                   \"glu\":  \"e\",\n",
    "                   \"gly\":  \"g\",\n",
    "                   \"his\":  \"h\",\n",
    "                   \"ile\":  \"i\",\n",
    "                   \"leu\":  \"l\",\n",
    "                   \"lys\":  \"k\",\n",
    "                   \"met\":  \"m\",\n",
    "                   \"phe\":  \"f\",\n",
    "                   \"pro\":  \"p\",\n",
    "                   \"ser\":  \"s\",\n",
    "                   \"thr\":  \"t\",\n",
    "                   \"trp\":  \"w\",\n",
    "                   \"tyr\":  \"y\",\n",
    "                   \"val\":  \"v\"}"
   ]
  },
  {
   "cell_type": "code",
   "execution_count": 9,
   "metadata": {
    "collapsed": true
   },
   "outputs": [],
   "source": [
    "def preprocess_input(file_name, aminoacid_codes):\n",
    "    \"\"\"\n",
    "    Load and preprocess a file containing protein sequences.\n",
    "    The output will be a DataFrame ready to be used by GOR.\n",
    "    :param file_name: string, name of the file to be opened.\n",
    "    :param aminoacid_codes: dictionary that maps aminoacid codes to single letters.\n",
    "    :return: DataFrame\n",
    "    \"\"\"\n",
    "    # Load the data\n",
    "    input_data = pd.read_csv(file_name,\n",
    "                         header=None, sep=\"\\t\",\n",
    "                         names=[\"PDB_code\", \"PDB_chain_code\", \"PDB_seq_code\", \"residue_name\", \"secondary_structure\"])\n",
    "\n",
    "    # CLEAN DATA - AMINOACIDS\n",
    "\n",
    "    # There are some values that are weird, like \"a\", \"b\", ...\n",
    "    # Some of those can be interpreted as correct aminoacids.\n",
    "\n",
    "    # Remove rows with \"X\", \"b\", \"UNK\"\n",
    "    # First, remove any leading spaces, then remove \"X\", \"b\", \"UNK\"\n",
    "    input_data[\"residue_name\"] = input_data[\"residue_name\"].str.strip()\n",
    "    input_data = input_data.drop(input_data[input_data[\"residue_name\"].isin([\"X\", \"b\", \"UNK\"])].index).reset_index(drop=True)\n",
    "\n",
    "\n",
    "    # Add a column for the aminoacids, while preserving the original one\n",
    "    input_data[\"a\"] = input_data[\"residue_name\"]\n",
    "    input_data[\"a\"] = input_data[\"a\"].str.lower()\n",
    "\n",
    "\n",
    "    # replace the codes with something shorter\n",
    "    input_data[\"a\"] = input_data[\"a\"].map(lambda x: aminoacid_codes[x] if x in aminoacid_codes else x)\n",
    "\n",
    "    # Create a new column\n",
    "    input_data[\"s\"] = input_data[\"secondary_structure\"]\n",
    "    input_data[\"s\"] = input_data[\"s\"].str.lower()\n",
    "    # Replace \"other\" with \"coil\"\n",
    "    input_data.loc[input_data[\"s\"] == \"other\", \"s\"] = \"coil\"\n",
    "    # Shorten values\n",
    "    input_data[\"s\"] = input_data[\"s\"].str[0]\n",
    "\n",
    "    return input_data\n"
   ]
  },
  {
   "cell_type": "markdown",
   "metadata": {},
   "source": [
    "We can load and work on the *STRIDE* dataset. The *DSSP* dataset is similar, and will be compared to *STRIDE* later in the report. "
   ]
  },
  {
   "cell_type": "code",
   "execution_count": 14,
   "metadata": {
    "collapsed": false
   },
   "outputs": [
    {
     "name": "stdout",
     "output_type": "stream",
     "text": [
      "{'SER', 'ASP', 'ASN', 'ALA', 'GLU', 'LYS', 'ILE', 'GLY', 'PRO', 'PHE', 'ARG', 'MET', 'VAL', 'TYR', 'TRP', 'HIS', 'LEU', 'GLN', 'THR', 'CYS'}\n",
      "{'Helix', 'Other', 'Beta'}\n"
     ]
    }
   ],
   "source": [
    "    # Type of the data to read (\"stride\", \"dssp\")\n",
    "    data_type = \"stride\"\n",
    "    # File name\n",
    "    file_name = \"../data/\" + data_type + \"_info.txt\"\n",
    "    # Read the data\n",
    "    input_data = preprocess_input(file_name, aminoacid_codes)\n",
    "\n",
    "    # Look at the aminoacid values\n",
    "    aminoacids = set(input_data.residue_name)\n",
    "    print(aminoacids)\n",
    "    # Same stuff with the secondary structures\n",
    "    secondary_structures = set(input_data.secondary_structure)\n",
    "    print(secondary_structures)"
   ]
  },
  {
   "cell_type": "code",
   "execution_count": 15,
   "metadata": {
    "collapsed": false
   },
   "outputs": [
    {
     "data": {
      "text/html": [
       "<div>\n",
       "<table border=\"1\" class=\"dataframe\">\n",
       "  <thead>\n",
       "    <tr style=\"text-align: right;\">\n",
       "      <th></th>\n",
       "      <th>PDB_code</th>\n",
       "      <th>PDB_chain_code</th>\n",
       "      <th>PDB_seq_code</th>\n",
       "      <th>residue_name</th>\n",
       "      <th>secondary_structure</th>\n",
       "      <th>a</th>\n",
       "      <th>s</th>\n",
       "    </tr>\n",
       "  </thead>\n",
       "  <tbody>\n",
       "    <tr>\n",
       "      <th>0</th>\n",
       "      <td>1w0n</td>\n",
       "      <td>A</td>\n",
       "      <td>12</td>\n",
       "      <td>ILE</td>\n",
       "      <td>Other</td>\n",
       "      <td>i</td>\n",
       "      <td>c</td>\n",
       "    </tr>\n",
       "    <tr>\n",
       "      <th>1</th>\n",
       "      <td>1w0n</td>\n",
       "      <td>A</td>\n",
       "      <td>13</td>\n",
       "      <td>THR</td>\n",
       "      <td>Beta</td>\n",
       "      <td>t</td>\n",
       "      <td>b</td>\n",
       "    </tr>\n",
       "    <tr>\n",
       "      <th>2</th>\n",
       "      <td>1w0n</td>\n",
       "      <td>A</td>\n",
       "      <td>14</td>\n",
       "      <td>LYS</td>\n",
       "      <td>Beta</td>\n",
       "      <td>k</td>\n",
       "      <td>b</td>\n",
       "    </tr>\n",
       "    <tr>\n",
       "      <th>3</th>\n",
       "      <td>1w0n</td>\n",
       "      <td>A</td>\n",
       "      <td>15</td>\n",
       "      <td>VAL</td>\n",
       "      <td>Beta</td>\n",
       "      <td>v</td>\n",
       "      <td>b</td>\n",
       "    </tr>\n",
       "    <tr>\n",
       "      <th>4</th>\n",
       "      <td>1w0n</td>\n",
       "      <td>A</td>\n",
       "      <td>16</td>\n",
       "      <td>GLU</td>\n",
       "      <td>Beta</td>\n",
       "      <td>e</td>\n",
       "      <td>b</td>\n",
       "    </tr>\n",
       "  </tbody>\n",
       "</table>\n",
       "</div>"
      ],
      "text/plain": [
       "  PDB_code PDB_chain_code  PDB_seq_code residue_name secondary_structure  a  s\n",
       "0     1w0n              A            12          ILE               Other  i  c\n",
       "1     1w0n              A            13          THR                Beta  t  b\n",
       "2     1w0n              A            14          LYS                Beta  k  b\n",
       "3     1w0n              A            15          VAL                Beta  v  b\n",
       "4     1w0n              A            16          GLU                Beta  e  b"
      ]
     },
     "execution_count": 15,
     "metadata": {},
     "output_type": "execute_result"
    }
   ],
   "source": [
    "input_data.iloc[0:5, ]"
   ]
  },
  {
   "cell_type": "markdown",
   "metadata": {},
   "source": [
    "**PDB_code** and **PDB_chain_code** work as identifier of the row. The column **a** and **s** are just shortened versions of the aminoacid codes and of the secondary structure codes."
   ]
  }
 ],
 "metadata": {
  "anaconda-cloud": {},
  "kernelspec": {
   "display_name": "Python [conda root]",
   "language": "python",
   "name": "conda-root-py"
  },
  "language_info": {
   "codemirror_mode": {
    "name": "ipython",
    "version": 3
   },
   "file_extension": ".py",
   "mimetype": "text/x-python",
   "name": "python",
   "nbconvert_exporter": "python",
   "pygments_lexer": "ipython3",
   "version": "3.5.2"
  }
 },
 "nbformat": 4,
 "nbformat_minor": 1
}
