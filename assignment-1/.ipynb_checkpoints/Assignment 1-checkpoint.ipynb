{
 "cells": [
  {
   "cell_type": "markdown",
   "metadata": {
    "collapsed": true
   },
   "source": [
    "# Computational biology and bioinformatics - <span style=\"color:#1CA766\">INFO-F-439</span>\n",
    "# Assignment 1: <span style=\"color:#1CA766\">aligning sequences\tand\tdetecting motifs</span>\n",
    "  \t\n",
    "  \n",
    "> ## <span style=\"color:#2E66A7\"> Alberto Parravicini</span>"
   ]
  },
  {
   "cell_type": "markdown",
   "metadata": {},
   "source": [
    "## <span style=\"color:#2E66A7\">Part 1:</span> implementing the sequence alignment algorithm\n",
    "\n",
    "### Introduction:\n",
    "\n",
    "Given two **sequences of aminoacids**, we would like to *align* them to highlight similarities between them. \n",
    "In order to do so, we can take inspiration from the famous [**Wagner–Fischer**](https://en.wikipedia.org/wiki/Wagner%E2%80%93Fischer_algorithm) algorithm, used to compute the **edit distance** between two strings.\n",
    "\n",
    "> <span style=\"color:#1CA766\">**Edit distance:**</span> also known as *Levenshtein distance*, it is the minimum number of characters that have to be inserted, removed or substituted to transform a string into another desired string.\n",
    "\n",
    "Before tackling the more complex problem of aligning aminoacid sequences, let's build an algorithm to compute the edit distance of 2 strings, as a quick warm-up!"
   ]
  },
  {
   "cell_type": "code",
   "execution_count": 2,
   "metadata": {
    "collapsed": false
   },
   "outputs": [
    {
     "ename": "ImportError",
     "evalue": "No module named 'utils'",
     "output_type": "error",
     "traceback": [
      "\u001b[0;31m---------------------------------------------------------------------------\u001b[0m",
      "\u001b[0;31mImportError\u001b[0m                               Traceback (most recent call last)",
      "\u001b[0;32m<ipython-input-2-e55541449dcc>\u001b[0m in \u001b[0;36m<module>\u001b[0;34m()\u001b[0m\n\u001b[1;32m      1\u001b[0m \u001b[1;32mimport\u001b[0m \u001b[0mnumpy\u001b[0m \u001b[1;32mas\u001b[0m \u001b[0mnp\u001b[0m\u001b[1;33m\u001b[0m\u001b[0m\n\u001b[1;32m      2\u001b[0m \u001b[1;32mimport\u001b[0m \u001b[0meditdistance\u001b[0m\u001b[1;33m\u001b[0m\u001b[0m\n\u001b[0;32m----> 3\u001b[0;31m \u001b[1;32mimport\u001b[0m \u001b[0mutils\u001b[0m\u001b[1;33m\u001b[0m\u001b[0m\n\u001b[0m\u001b[1;32m      4\u001b[0m \u001b[1;32mimport\u001b[0m \u001b[0mrandom\u001b[0m\u001b[1;33m\u001b[0m\u001b[0m\n\u001b[1;32m      5\u001b[0m \u001b[1;33m\u001b[0m\u001b[0m\n",
      "\u001b[0;31mImportError\u001b[0m: No module named 'utils'"
     ]
    }
   ],
   "source": [
    "import numpy as np\n",
    "import editdistance\n",
    "import utils\n",
    "import random\n",
    "\n",
    "aminoacid_names = \"ARNDCEQGHILKMFPSTWYV\"\n",
    "print(\"Number of aminoacids:\", len(aminoacid_names))\n",
    "\n",
    "gap_penalty = -1\n",
    "\n",
    "min_string_size = 20\n",
    "max_string_size = 70\n",
    "\n",
    "\n",
    "def edit_levenshtein(c1, c2):\n",
    "    \"\"\"\n",
    "    Default edit function cost introduced by Levenshtein\n",
    "    \n",
    "    Parameters \n",
    "    ----------\n",
    "    c1, c2: any object on which equality is defined.\n",
    "    \n",
    "    Returns\n",
    "    ----------\n",
    "    int\n",
    "        0 if c1 == c2 (i.e. no substitution is needed),\n",
    "        -1 otherwise (i.e. a substitution is needed)\n",
    "    \"\"\"\n",
    "    return 0 if c1 == c2 else -1\n",
    "    \n",
    "\n",
    "def edit_distance(s1, s2, gap_penalty = -1, edit_function = edit_levenshtein):\n",
    "\n",
    "    \"\"\"\n",
    "    Compute the edit distance between 2 strings \"s1\" and \"s2\", \n",
    "    i.e. the number of character deletions, insertions and substitutions \n",
    "    required to turn \"s1\" into \"s2\".\n",
    "    \n",
    "    Parameters \n",
    "    ----------\n",
    "    s1, s2: array-like\n",
    "        \n",
    "    gap_penalty: int, optional\n",
    "        The penalty factor assigned to character deletions and insertions.\n",
    "        \n",
    "    edit_function: function, optional\n",
    "        The function that is used to compute the cost of a character subtitution.\n",
    "        \n",
    "    \n",
    "    Returns \n",
    "    ----------\n",
    "    int\n",
    "        The edit distance between s1 and s2\n",
    "    \"\"\"\n",
    "    n_row= len(s1) + 1\n",
    "    n_col = len(s2) + 1\n",
    "    edit_matrix = np.zeros((n_row, n_col))\n",
    "    \n",
    "    for i in range(n_row):\n",
    "        edit_matrix[i, 0] = i * gap_penalty\n",
    "                    \n",
    "    for j in range(n_col):\n",
    "        edit_matrix[0, j] = j * gap_penalty\n",
    "                       \n",
    "    for i in range(1, n_row):\n",
    "        for j in range(1, n_col):\n",
    "            x_gap = edit_matrix[i - 1, j] + gap_penalty\n",
    "            y_gap = edit_matrix[i, j - 1] + gap_penalty\n",
    "            mut = edit_matrix[i - 1, j - 1] + edit_function(s1[i - 1], s2[j - 1])\n",
    "            edit_matrix[i, j] = max(x_gap, y_gap, mut)\n",
    "            \n",
    "    return -edit_matrix[len(s1), len(s2)]"
   ]
  },
  {
   "cell_type": "code",
   "execution_count": null,
   "metadata": {
    "collapsed": true
   },
   "outputs": [],
   "source": []
  }
 ],
 "metadata": {
  "anaconda-cloud": {},
  "kernelspec": {
   "display_name": "Python [conda root]",
   "language": "python",
   "name": "conda-root-py"
  },
  "language_info": {
   "codemirror_mode": {
    "name": "ipython",
    "version": 3
   },
   "file_extension": ".py",
   "mimetype": "text/x-python",
   "name": "python",
   "nbconvert_exporter": "python",
   "pygments_lexer": "ipython3",
   "version": "3.5.2"
  }
 },
 "nbformat": 4,
 "nbformat_minor": 0
}
